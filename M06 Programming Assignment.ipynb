{
 "cells": [
  {
   "cell_type": "markdown",
   "id": "9fc5fc52",
   "metadata": {},
   "source": [
    "13.1"
   ]
  },
  {
   "cell_type": "code",
   "execution_count": 7,
   "id": "2476515e",
   "metadata": {},
   "outputs": [],
   "source": [
    "import datetime # import the datetime module\n",
    "today = datetime.date.today() # get the current date\n",
    "today_string = today.strftime(\"%Y-%m-%d\") # format the date as a string\n",
    "with open(\"today.txt\", \"w\") as f: # open the text file in write mode\n",
    "    f.write(today_string) # write the date string to the file"
   ]
  },
  {
   "cell_type": "markdown",
   "id": "2eabfb7b",
   "metadata": {},
   "source": [
    "13.2"
   ]
  },
  {
   "cell_type": "code",
   "execution_count": 8,
   "id": "b4467f32",
   "metadata": {},
   "outputs": [
    {
     "name": "stdout",
     "output_type": "stream",
     "text": [
      "2023-10-01\n"
     ]
    }
   ],
   "source": [
    "with open(\"today.txt\", \"r\") as f: # open the text file in read mode\n",
    "    today_string = f.read() # read the date string from the file\n",
    "print(today_string) # print the date string"
   ]
  },
  {
   "cell_type": "markdown",
   "id": "2f516e2d",
   "metadata": {},
   "source": [
    "13.3"
   ]
  },
  {
   "cell_type": "code",
   "execution_count": 15,
   "id": "969cf362",
   "metadata": {},
   "outputs": [
    {
     "name": "stdout",
     "output_type": "stream",
     "text": [
      "2023-10-01\n"
     ]
    }
   ],
   "source": [
    "today = datetime.datetime.strptime(today_string, \"%Y-%m-%d\").date() # parse the date from the string\n",
    "print(today) # print the date object"
   ]
  },
  {
   "cell_type": "markdown",
   "id": "79206f11",
   "metadata": {},
   "source": [
    "15.1"
   ]
  },
  {
   "cell_type": "code",
   "execution_count": 22,
   "id": "f0770eec",
   "metadata": {},
   "outputs": [
    {
     "name": "stdout",
     "output_type": "stream",
     "text": [
      "Current time: 15:19:05\n"
     ]
    }
   ],
   "source": [
    "# Import the multiprocessing and time modules\n",
    "import multiprocessing\n",
    "import time\n",
    "\n",
    "# Import the random module to generate random numbers\n",
    "import random\n",
    "\n",
    "# Define a function that prints the current time and waits for a random number of seconds\n",
    "def print_time():\n",
    "    # Wait for a random number of seconds between 0 and 1\n",
    "    time.sleep(random.random())\n",
    "    \n",
    "# Create three processes with the target function as print_time\n",
    "p1 = multiprocessing.Process(target=print_time)\n",
    "p2 = multiprocessing.Process(target=print_time)\n",
    "p3 = multiprocessing.Process(target=print_time)\n",
    "\n",
    "# Start the processes\n",
    "p1.start()\n",
    "p2.start()\n",
    "p3.start()\n",
    "\n",
    "# Join the processes to wait for them to finish\n",
    "p1.join()\n",
    "p2.join()\n",
    "p3.join()\n",
    "\n",
    "print(f\"Current time: {time.strftime('%H:%M:%S')}\")"
   ]
  },
  {
   "cell_type": "code",
   "execution_count": null,
   "id": "9496cb49",
   "metadata": {},
   "outputs": [],
   "source": []
  }
 ],
 "metadata": {
  "kernelspec": {
   "display_name": "Python 3 (ipykernel)",
   "language": "python",
   "name": "python3"
  },
  "language_info": {
   "codemirror_mode": {
    "name": "ipython",
    "version": 3
   },
   "file_extension": ".py",
   "mimetype": "text/x-python",
   "name": "python",
   "nbconvert_exporter": "python",
   "pygments_lexer": "ipython3",
   "version": "3.11.4"
  }
 },
 "nbformat": 4,
 "nbformat_minor": 5
}
